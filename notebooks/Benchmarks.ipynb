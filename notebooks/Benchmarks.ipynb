{
 "cells": [
  {
   "cell_type": "markdown",
   "metadata": {},
   "source": [
    "# First Derivative Operators"
   ]
  },
  {
   "cell_type": "code",
   "execution_count": null,
   "metadata": {},
   "outputs": [],
   "source": [
    "using Revise, BenchmarkTools, SummationByPartsOperators, BandedMatrices\n",
    "using Random, SparseArrays\n",
    "\n",
    "T = Float64\n",
    "xmin, xmax = T(0), T(1)\n",
    "N = 10^3\n",
    "der_order = 1\n",
    "acc_order = 6\n",
    "source = MattssonSvärdShoeybi2008()\n",
    "\n",
    "D_periodic_serial  = periodic_derivative_operator(der_order, acc_order, xmin, xmax, N+1, Val{:serial}())\n",
    "D_periodic_threads = periodic_derivative_operator(der_order, acc_order, xmin, xmax, N+1, Val{:threads}())\n",
    "D_nonperiodic_serial  = derivative_operator(source, der_order, acc_order, xmin, xmax, N, Val{:serial}())\n",
    "D_nonperiodic_sparse  = sparse(D_nonperiodic_serial)\n",
    "D_nonperiodic_banded  = BandedMatrix(D_nonperiodic_serial)\n",
    "D_nonperiodic_threads = derivative_operator(source, der_order, acc_order, xmin, xmax, N, Val{:threads}())"
   ]
  },
  {
   "cell_type": "code",
   "execution_count": null,
   "metadata": {},
   "outputs": [],
   "source": [
    "Random.seed!(12345)\n",
    "u = rand(T, N)\n",
    "dest = similar(u)\n",
    "\n",
    "println(\"D_periodic_serial:\"); sleep(0.1); display(@benchmark mul!($dest, $D_periodic_serial, $u))\n",
    "println(\"D_periodic_threads:\"); sleep(0.1); display(@benchmark mul!($dest, $D_periodic_threads, $u))\n",
    "println(\"D_nonperiodic_serial:\"); sleep(0.1); display(@benchmark mul!($dest, $D_nonperiodic_serial, $u))\n",
    "println(\"D_nonperiodic_threads:\"); sleep(0.1); display(@benchmark mul!($dest, $D_nonperiodic_threads, $u))\n",
    "println(\"D_nonperiodic_sparse:\"); sleep(0.1); display(@benchmark mul!($dest, $D_nonperiodic_sparse, $u))\n",
    "println(\"D_nonperiodic_banded:\"); sleep(0.1); display(@benchmark mul!($dest, $D_nonperiodic_banded, $u))"
   ]
  },
  {
   "cell_type": "markdown",
   "metadata": {},
   "source": [
    "# Dissipation Operators"
   ]
  },
  {
   "cell_type": "code",
   "execution_count": null,
   "metadata": {},
   "outputs": [],
   "source": [
    "using Revise, BenchmarkTools, SummationByPartsOperators\n",
    "\n",
    "T = Float64\n",
    "xmin, xmax = T(0), T(1)\n",
    "N = 10^3\n",
    "acc_order = 8\n",
    "source_D = MattssonSvärdShoeybi2008()\n",
    "source_Di = MattssonSvärdNordström2004()\n",
    "\n",
    "D_serial  = derivative_operator(source_D, 1, acc_order, xmin, xmax, N, Val{:serial}())\n",
    "D_threads = derivative_operator(source_D, 1, acc_order, xmin, xmax, N, Val{:threads}())\n",
    "\n",
    "Di_serial  = dissipation_operator(source_Di, D_serial)\n",
    "Di_sparse  = sparse(Di_serial)\n",
    "Di_full    = Matrix(Di_serial)\n",
    "Di_threads = dissipation_operator(source_Di, D_threads)"
   ]
  },
  {
   "cell_type": "code",
   "execution_count": null,
   "metadata": {},
   "outputs": [],
   "source": [
    "Random.seed!(12345)\n",
    "u = rand(T, N)\n",
    "dest = similar(u)\n",
    "\n",
    "println(\"D_serial:\"); sleep(0.1); display(@benchmark mul!($dest, $D_serial, $u))\n",
    "println(\"Di_serial:\"); sleep(0.1); display(@benchmark mul!($dest, $Di_serial, $u))\n",
    "println(\"Di_sparse:\"); sleep(0.1); display(@benchmark mul!($dest, $Di_sparse, $u))\n",
    "println(\"Di_full:\"); sleep(0.1); display(@benchmark mul!($dest, $Di_full, $u))\n",
    "\n",
    "println(\"D_threads:\"); sleep(0.1); display(@benchmark mul!($dest, $D_threads, $u))\n",
    "println(\"Di_threads:\"); sleep(0.1); display(@benchmark mul!($dest, $Di_threads, $u))"
   ]
  },
  {
   "cell_type": "code",
   "execution_count": null,
   "metadata": {},
   "outputs": [],
   "source": []
  }
 ],
 "metadata": {
  "kernelspec": {
   "display_name": "Julia 1.3.0",
   "language": "julia",
   "name": "julia-1.3"
  },
  "language_info": {
   "file_extension": ".jl",
   "mimetype": "application/julia",
   "name": "julia",
   "version": "1.3.0"
  }
 },
 "nbformat": 4,
 "nbformat_minor": 1
}
