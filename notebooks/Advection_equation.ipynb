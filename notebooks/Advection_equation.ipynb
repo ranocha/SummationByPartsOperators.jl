{
 "cells": [
  {
   "cell_type": "markdown",
   "metadata": {},
   "source": [
    "# Linear Advection Equation\n",
    "\n",
    "\\begin{equation}\n",
    "\\begin{aligned}\n",
    "    \\partial_t u(t,x) + \\partial_x (a(x) u(t,x)) &= 0, && t \\in (0,T), x \\in (x_{min}, x_{max}), \\\\\n",
    "    u(0,x) &= u_0(x), && x \\in (x_{min}, x_{max}), \\\\\n",
    "    \\text{boundary conditions}, &&& x \\in \\partial (x_{min}, x_{max}).\n",
    "\\end{aligned}\n",
    "\\end{equation}\n",
    "\n",
    "The boundary conditions depend on the sign of the transport velocity $a$ at the boundary. In particular, specifying a Dirichlet type boundary condition is only allowed for inflow boundaries, e.g. $a(x_{min}) > 0$ at $x = x_{min}$."
   ]
  },
  {
   "cell_type": "code",
   "execution_count": null,
   "metadata": {},
   "outputs": [],
   "source": [
    "using Revise\n",
    "using SummationByPartsOperators, OrdinaryDiffEq\n",
    "using Plots, LaTeXStrings, Printf\n",
    "\n",
    "# general parameters\n",
    "xmin = -1.\n",
    "xmax = +1.\n",
    "tspan = (0., 8.0)\n",
    "afunc(x) = one(x)\n",
    "u0func(x) = sinpi(x)\n",
    "# Dirichlet type boundary conditions; they are used only at inflow boundaries\n",
    "left_bc(t) = t >= 3 ? sinpi(t) : zero(t)\n",
    "right_bc(t) = zero(t)\n",
    "\n",
    "# discretisation parameters\n",
    "interior_order = 4\n",
    "N = 101\n",
    "# whether a split form should be applied or not\n",
    "split_form = Val(false)\n",
    "\n",
    "# setup spatial semidiscretisation\n",
    "D = derivative_operator(MattssonSvärdShoeybi2008(), 1, interior_order, xmin, xmax, N)\n",
    "# whether or not artificial dissipation should be applied: nothing, dissipation_operator(D)\n",
    "Di = nothing\n",
    "semidisc = VariableLinearAdvectionNonperiodicSemidiscretisation(D, Di, afunc, split_form, left_bc, right_bc)\n",
    "ode = semidiscretise(u0func, semidisc, tspan)\n",
    "\n",
    "# solve ode\n",
    "sol = solve(ode, SSPRK104(), dt=D.Δx, adaptive=false, \n",
    "            saveat=range(first(tspan), stop=last(tspan), length=200))\n",
    "\n",
    "# visualise the result\n",
    "plot(xguide=L\"x\", yguide=L\"u\")\n",
    "plot!(evaluate_coefficients(sol[end], semidisc), label=\"\")"
   ]
  },
  {
   "cell_type": "code",
   "execution_count": null,
   "metadata": {},
   "outputs": [],
   "source": [
    "# make a movie\n",
    "anim = Animation()\n",
    "idx = 1\n",
    "x, u = evaluate_coefficients(sol[idx], semidisc)\n",
    "\n",
    "fig = plot(x, u, xguide=L\"x\", yguide=L\"u\", xlim=extrema(x), ylim=(-1.05, 1.05),\n",
    "           #size=(1024,768), dpi=250,\n",
    "           label=\"\", title=@sprintf(\"\\$t = %6.2f \\$\", sol.t[idx]))\n",
    "for idx in 1:length(sol.t)\n",
    "    fig[1] = x, sol.u[idx]\n",
    "    plot!(title=@sprintf(\"\\$t = %6.2f \\$\", sol.t[idx]))\n",
    "    frame(anim)\n",
    "end\n",
    "gif(anim)"
   ]
  }
 ],
 "metadata": {
  "@webio": {
   "lastCommId": "BD030DFC96724BDD8673DA2952842780",
   "lastKernelId": "760a3cf8-2edb-4978-a7a7-36b8beacfed5"
  },
  "kernelspec": {
   "display_name": "Julia 1.3.0",
   "language": "julia",
   "name": "julia-1.3"
  },
  "language_info": {
   "file_extension": ".jl",
   "mimetype": "application/julia",
   "name": "julia",
   "version": "1.3.0"
  }
 },
 "nbformat": 4,
 "nbformat_minor": 2
}
