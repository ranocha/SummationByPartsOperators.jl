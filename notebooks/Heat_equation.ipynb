{
 "cells": [
  {
   "cell_type": "markdown",
   "metadata": {},
   "source": [
    "# Heat Equation\n",
    "\n",
    "Solve the differential equation\n",
    "\n",
    "\\begin{align}\n",
    "    \\partial_t u(t,x) - \\partial_x^2 u(t,x) &= 0, && t \\in (0,T), \\, x \\in (x_\\mathrm{min}, x_\\mathrm{max}),\n",
    "    \\\\\n",
    "    u(0,x) &= u_0(x), && x \\in [x_\\mathrm{min}, x_\\mathrm{max}]\n",
    "\\end{align}\n",
    "\n",
    "with appropriate boundary conditions."
   ]
  },
  {
   "cell_type": "markdown",
   "metadata": {},
   "source": [
    "## Constant Dirichlet Boundary Conditions\n",
    "\n",
    "Solve the heat equation with constant Dirichlet boundary conditions\n",
    "\n",
    "\\begin{align}\n",
    "    u(t,x_\\mathrm{min}) &= u_0(x_\\mathrm{min}), && t \\in (0,T),\n",
    "    \\\\\n",
    "    u(t,x_\\mathrm{max}) &= u_0(x_\\mathrm{max}), && t \\in (0,T).\n",
    "\\end{align}"
   ]
  },
  {
   "cell_type": "markdown",
   "metadata": {},
   "source": [
    "### Using `SummationByPartsOperators.jl`"
   ]
  },
  {
   "cell_type": "code",
   "execution_count": null,
   "metadata": {},
   "outputs": [],
   "source": [
    "using SummationByPartsOperators, OrdinaryDiffEq\n",
    "using Plots, LaTeXStrings\n",
    "\n",
    "xmin, xmax = -π, π\n",
    "N = 512\n",
    "acc_order = 4\n",
    "tspan = (0., 10.)\n",
    "# source of coefficients\n",
    "source = MattssonSvärdShoeybi2008()\n",
    "ode_alg = Tsit5()\n",
    "\n",
    "u₀(x) = -(x - 0.5)^2 + 1/12\n",
    "\n",
    "D = derivative_operator(source, 2, acc_order, xmin, xmax, N)\n",
    "x = D.grid\n",
    "u0 = u₀.(x)\n",
    "\n",
    "function rhs!(du, u, p, t)\n",
    "    mul!(du, D, u)\n",
    "    @inbounds du[1] -= (u[1] - u₀(xmin)) / D.coefficients.left_weights[1]\n",
    "    @inbounds du[end] -= (u[end] - u₀(xmax)) / D.coefficients.right_weights[1]\n",
    "end\n",
    "\n",
    "ode = ODEProblem(rhs!, u0, tspan)\n",
    "sol = solve(ode, ode_alg, save_everystep=false, saveat=0:10)\n",
    "@time sol = solve(ode, ode_alg, save_everystep=false, saveat=0:10)\n",
    "\n",
    "# try to plot the solution at different time points using\n",
    "plot(x, [sol(i) for i in 0:1:10])"
   ]
  },
  {
   "cell_type": "markdown",
   "metadata": {},
   "source": [
    "### Using `DiffEqOperators.jl`"
   ]
  },
  {
   "cell_type": "code",
   "execution_count": null,
   "metadata": {},
   "outputs": [],
   "source": [
    "using DiffEqOperators, OrdinaryDiffEq\n",
    "using Plots, LaTeXStrings\n",
    "\n",
    "xmin, xmax = -π, π\n",
    "N = 512\n",
    "acc_order = 4\n",
    "tspan = (0., 10.)\n",
    "ode_alg = Tsit5()\n",
    "\n",
    "u₀(x) = -(x - 0.5)^2 + 1/12\n",
    "\n",
    "x = range(xmin, stop=xmax, length=N)\n",
    "u0 = u₀.(x)\n",
    "L = DiffEqOperators.DerivativeOperator{Float64}(2, acc_order, 2π/511, 512, :Dirichlet, :Dirichlet; BC=(u0[1],u0[end]))\n",
    "\n",
    "ode = ODEProblem(u -> L * bc * u, u0, tspan)\n",
    "sol = solve(ode, ode_alg, save_everystep=false, saveat=0:10)\n",
    "@time sol = solve(ode, ode_alg, save_everystep=false, saveat=0:10)\n",
    "\n",
    "# try to plot the solution at different time points using\n",
    "plot(x, [sol(i) for i in 0:1:10])"
   ]
  },
  {
   "cell_type": "code",
   "execution_count": null,
   "metadata": {},
   "outputs": [],
   "source": []
  }
 ],
 "metadata": {
  "@webio": {
   "lastCommId": "C190EF78EF4844098208041C11B15EF2",
   "lastKernelId": "31224a7c-6a41-4f67-a6b4-f72540a5f62b"
  },
  "kernelspec": {
   "display_name": "Julia 1.3.0",
   "language": "julia",
   "name": "julia-1.3"
  },
  "language_info": {
   "file_extension": ".jl",
   "mimetype": "application/julia",
   "name": "julia",
   "version": "1.3.0"
  }
 },
 "nbformat": 4,
 "nbformat_minor": 1
}
