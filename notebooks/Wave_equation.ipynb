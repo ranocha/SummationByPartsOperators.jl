{
 "cells": [
  {
   "cell_type": "markdown",
   "metadata": {},
   "source": [
    "# Wave Equation\n",
    "\n",
    "\\begin{equation}\n",
    "\\begin{aligned}\n",
    "    \\partial_t^2 u(t,x) &= \\partial_x^2 u(t,x), && t \\in (0,T), x \\in (x_{min}, x_{max}), \\\\\n",
    "    u(0,x) &= u_0(x), && x \\in (x_{min}, x_{max}), \\\\\n",
    "    \\partial_t u(0,x) &= v_0(x), && x \\in (x_{min}, x_{max}), \\\\\n",
    "    \\text{boundary conditions}, &&& x \\in \\partial (x_{min}, x_{max}).\n",
    "\\end{aligned}\n",
    "\\end{equation}\n",
    "\n"
   ]
  },
  {
   "cell_type": "code",
   "execution_count": null,
   "metadata": {},
   "outputs": [],
   "source": [
    "using Revise\n",
    "using SummationByPartsOperators, OrdinaryDiffEq\n",
    "using Plots, LaTeXStrings, Printf\n",
    "\n",
    "# general parameters\n",
    "xmin = -1.\n",
    "xmax = +1.\n",
    "tspan = (0., 8.0)\n",
    "u0func(x) = exp(-20x^2)\n",
    "du0func(x) = zero(x)\n",
    "# HomogeneousNeumann, HomogeneousDirichlet, NonReflecting BCs are implemented up to now\n",
    "left_bc  = Val(:HomogeneousNeumann)\n",
    "right_bc = Val(:HomogeneousDirichlet)\n",
    "\n",
    "# discretisation parameters\n",
    "interior_order = 4\n",
    "N = 101\n",
    "\n",
    "# setup spatial semidiscretisation\n",
    "D2 = derivative_operator(MattssonSvärdShoeybi2008(), 2, interior_order, xmin, xmax, N)\n",
    "semidisc = WaveEquationNonperiodicSemidiscretisation(D2, left_bc, right_bc)\n",
    "ode = semidiscretise(du0func, u0func, semidisc, tspan)\n",
    "\n",
    "# solve ode\n",
    "sol = solve(ode, DPRKN6(), dt=0.25*D2.Δx, adaptive=false, \n",
    "            saveat=range(first(tspan), stop=last(tspan), length=200))\n",
    "\n",
    "# visualise the result\n",
    "plot(xguide=L\"x\")\n",
    "plot!(evaluate_coefficients(sol[end].x[2], semidisc), label=L\"u\")\n",
    "plot!(evaluate_coefficients(sol[end].x[1], semidisc), label=L\"\\partial_t u\")"
   ]
  },
  {
   "cell_type": "code",
   "execution_count": null,
   "metadata": {},
   "outputs": [],
   "source": [
    "# make a movie\n",
    "anim = Animation()\n",
    "idx = 1\n",
    "x, u = evaluate_coefficients(sol[idx].x[2], semidisc)\n",
    "\n",
    "fig = plot(x, u, xguide=L\"x\", yguide=L\"u\", xlim=extrema(x), ylim=(-1., 1.),\n",
    "           #size=(1024,768), dpi=250,\n",
    "           label=\"\", title=@sprintf(\"\\$t = %6.2f \\$\", sol.t[idx]))\n",
    "for idx in 1:length(sol.t)\n",
    "    fig[1] = x, sol.u[idx].x[2]\n",
    "    plot!(title=@sprintf(\"\\$t = %6.2f \\$\", sol.t[idx]))\n",
    "    frame(anim)\n",
    "end\n",
    "gif(anim)"
   ]
  },
  {
   "cell_type": "markdown",
   "metadata": {},
   "source": [
    "## 2D\n",
    "\n",
    "Since lazy tensor/Kronecker products are not implemented yet,\n",
    "the operators are converted to sparse matrices via `LinearMaps.jl`."
   ]
  },
  {
   "cell_type": "code",
   "execution_count": null,
   "metadata": {},
   "outputs": [],
   "source": [
    "using LinearMaps\n",
    "using SparseArrays, LinearAlgebra\n",
    "\n",
    "# general parameters\n",
    "xmin = -1.\n",
    "xmax = +1.\n",
    "ymin = -1.\n",
    "ymax = +1.\n",
    "tspan = (0., 4.0)\n",
    "u0func(x,y) = exp(-20*(x^2+y^2))\n",
    "du0func(x,y) = zero(x)\n",
    "# HomogeneousNeumann, HomogeneousDirichlet BCs are implemented up to now\n",
    "# NonReflecting requires the values of du and is not usable in the simplified approach below\n",
    "xmin_bc = Val(:HomogeneousDirichlet)\n",
    "xmax_bc = Val(:HomogeneousDirichlet)\n",
    "ymin_bc = Val(:HomogeneousNeumann)\n",
    "ymax_bc = Val(:HomogeneousNeumann)\n",
    "\n",
    "# discretisation parameters\n",
    "interior_order = 4\n",
    "Nx = 151\n",
    "Ny = 151\n",
    "\n",
    "# setup spatial semidiscretisation\n",
    "D2x = derivative_operator(MattssonSvärdShoeybi2008(), 2, interior_order, xmin, xmax, Nx)\n",
    "semidiscx = WaveEquationNonperiodicSemidiscretisation(D2x, xmin_bc, xmax_bc)\n",
    "opx = LinearMap{Float64}((ddu,u)->semidiscx(ddu,zero(u),u,nothing,0.), Nx, ismutating=true) |> sparse\n",
    "\n",
    "D2y = derivative_operator(MattssonSvärdShoeybi2008(), 2, interior_order, ymin, ymax, Ny)\n",
    "semidiscy = WaveEquationNonperiodicSemidiscretisation(D2y, ymin_bc, ymax_bc)\n",
    "opy = LinearMap{Float64}((ddu,u)->semidiscy(ddu,zero(u),u,nothing,0.), Ny, ismutating=true) |> sparse\n",
    "\n",
    "x = SummationByPartsOperators.grid(D2x)\n",
    "y = SummationByPartsOperators.grid(D2y)\n",
    "op = kron(opx, sparse(I, size(opy)...)) + kron(sparse(I, size(opx)...), opy)\n",
    "u0 = u0func.(x, y') |> vec\n",
    "du0 = du0func.(x, y') |> vec\n",
    "ode = SecondOrderODEProblem((ddu,du,u,p,t)->mul!(ddu,op,u), du0, u0, tspan)\n",
    "\n",
    "# solve ode\n",
    "sol2D = solve(ode, DPRKN6(), dt=0.25*min(D2x.Δx,D2y.Δx), adaptive=false, \n",
    "              saveat=range(first(tspan), stop=last(tspan), length=200))\n",
    "\n",
    "# visualise the result\n",
    "plot(xguide=L\"x\", yguide=L\"y\", clim=(-1.,1.), aspect_ratio=:equal, size=(600,520))\n",
    "heatmap!(x, y, sol2D[end].x[2], c=:bluesreds)"
   ]
  },
  {
   "cell_type": "code",
   "execution_count": null,
   "metadata": {},
   "outputs": [],
   "source": [
    "# make a movie\n",
    "anim = Animation()\n",
    "idx = 1\n",
    "\n",
    "fig = heatmap(x, y, sol2D.u[idx].x[2], xguide=L\"x\", yguide=L\"y\", clim=(-1., 1.), c=:bluesreds,\n",
    "              aspect_ratio=:equal, size=(600,520),\n",
    "               #size=(1024,768), dpi=250,\n",
    "               label=\"\", title=@sprintf(\"\\$t = %6.2f \\$\", sol2D.t[idx]))\n",
    "for idx in 1:length(sol.t)\n",
    "    fig[1] = x, y, sol2D.u[idx].x[2]\n",
    "    heatmap!(title=@sprintf(\"\\$t = %6.2f \\$\", sol2D.t[idx]))\n",
    "    frame(anim)\n",
    "end\n",
    "gif(anim)"
   ]
  },
  {
   "cell_type": "code",
   "execution_count": null,
   "metadata": {},
   "outputs": [],
   "source": []
  }
 ],
 "metadata": {
  "@webio": {
   "lastCommId": "1BAD3F3F448047168EC931B10DE6984F",
   "lastKernelId": "d3a1a56d-d509-438f-8c63-bfe6823525e5"
  },
  "kernelspec": {
   "display_name": "Julia 1.3.0",
   "language": "julia",
   "name": "julia-1.3"
  },
  "language_info": {
   "file_extension": ".jl",
   "mimetype": "application/julia",
   "name": "julia",
   "version": "1.3.0"
  }
 },
 "nbformat": 4,
 "nbformat_minor": 2
}
